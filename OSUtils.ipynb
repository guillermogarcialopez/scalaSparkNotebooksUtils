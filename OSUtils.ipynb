{
 "cells": [
  {
   "cell_type": "code",
   "execution_count": 1,
   "id": "5720605f",
   "metadata": {},
   "outputs": [
    {
     "data": {
      "text/plain": [
       "Intitializing Scala interpreter ..."
      ]
     },
     "metadata": {},
     "output_type": "display_data"
    },
    {
     "data": {
      "text/plain": [
       "Spark Web UI available at http://192.168.1.132:4041\n",
       "SparkContext available as 'sc' (version = 3.5.0, master = local[*], app id = local-1699630598747)\n",
       "SparkSession available as 'spark'\n"
      ]
     },
     "metadata": {},
     "output_type": "display_data"
    },
    {
     "name": "stdout",
     "output_type": "stream",
     "text": [
      "================================================================================================\r\n"
     ]
    }
   ],
   "source": [
    "println(\"================================================================================================\")"
   ]
  },
  {
   "cell_type": "code",
   "execution_count": 2,
   "id": "7135c5e3",
   "metadata": {},
   "outputs": [
    {
     "data": {
      "text/plain": [
       "isWindows: Boolean\r\n",
       "isLinux: Boolean\r\n"
      ]
     },
     "execution_count": 2,
     "metadata": {},
     "output_type": "execute_result"
    }
   ],
   "source": [
    "def isWindows: Boolean = System.getProperty(\"os.name\").toUpperCase.contains(\"WINDOWS\")\n",
    "def isLinux: Boolean = System.getProperty(\"os.name\").toUpperCase.contains(\"LINUX\")"
   ]
  },
  {
   "cell_type": "code",
   "execution_count": 3,
   "id": "25815658",
   "metadata": {},
   "outputs": [
    {
     "data": {
      "text/plain": [
       "printOS: Unit\r\n"
      ]
     },
     "execution_count": 3,
     "metadata": {},
     "output_type": "execute_result"
    }
   ],
   "source": [
    "def printOS: Unit =    \n",
    "    if (isWindows) println(\"THIS IS A WINDOWS OS\")\n",
    "    else println(\"THIS IS A LINUX OS\")"
   ]
  },
  {
   "cell_type": "code",
   "execution_count": 4,
   "id": "00364fbe",
   "metadata": {},
   "outputs": [
    {
     "name": "stdout",
     "output_type": "stream",
     "text": [
      "THIS IS A WINDOWS OS\r\n"
     ]
    }
   ],
   "source": [
    "printOS"
   ]
  }
 ],
 "metadata": {
  "kernelspec": {
   "display_name": "spylon-kernel",
   "language": "scala",
   "name": "spylon-kernel"
  },
  "language_info": {
   "codemirror_mode": "text/x-scala",
   "file_extension": ".scala",
   "help_links": [
    {
     "text": "MetaKernel Magics",
     "url": "https://metakernel.readthedocs.io/en/latest/source/README.html"
    }
   ],
   "mimetype": "text/x-scala",
   "name": "scala",
   "pygments_lexer": "scala",
   "version": "0.4.1"
  }
 },
 "nbformat": 4,
 "nbformat_minor": 5
}
